{
 "cells": [
  {
   "cell_type": "markdown",
   "metadata": {},
   "source": [
    "DSC160 Data Science and the Arts - Twomey - Spring 2020 - [dsc160.roberttwomey.com](http://dsc160.roberttwomey.com)"
   ]
  },
  {
   "cell_type": "markdown",
   "metadata": {},
   "source": [
    "## Bokeh for Interactive Plots\n",
    "\n",
    "This notebook shows you how to make interactive plots in jupyter using Bokeh. \n",
    "\n",
    "What is Bokeh?\n",
    "\n",
    "> Bokeh is an interactive visualization library for modern web browsers. \n",
    "> It provides elegant, concise construction of versatile graphics, and \n",
    "> affords high-performance interactivity over large or streaming datasets.\n",
    "> Bokeh can help anyone who would like to quickly and easily make \n",
    "interactive plots, dashboards, and data applications.\n",
    "\n",
    "This notebook walks you through setup/installation of bokeh on your jupyterhub instance, gives a few plotting examples including:\n",
    "- creating line graphs\n",
    "- setting the theme (dark mode)\n",
    "- creating scatter plots, histogram\n",
    "- using hover/tooltips to examine individual values within the graph. \n",
    "\n",
    "Bokeh could be an ideal package to make an interactive visualization, like Jason Bailey's plot of complexity score vs. time in Mondrian's work. It is very well documented: https://docs.bokeh.org/en/latest/index.html"
   ]
  },
  {
   "cell_type": "markdown",
   "metadata": {},
   "source": [
    "## Setup\n",
    "\n",
    "Uncomment and run this once to upgrade the previously installed version of bokeh (or to create a fresh install):"
   ]
  },
  {
   "cell_type": "code",
   "execution_count": null,
   "metadata": {},
   "outputs": [],
   "source": [
    "#!pip install --user bokeh --upgrade"
   ]
  },
  {
   "cell_type": "markdown",
   "metadata": {},
   "source": [
    "What version are we running?"
   ]
  },
  {
   "cell_type": "code",
   "execution_count": null,
   "metadata": {},
   "outputs": [],
   "source": [
    "import bokeh\n",
    "bokeh.__version__ # Should be > 2.0"
   ]
  },
  {
   "cell_type": "markdown",
   "metadata": {},
   "source": [
    "Take care of imports:"
   ]
  },
  {
   "cell_type": "code",
   "execution_count": null,
   "metadata": {},
   "outputs": [],
   "source": [
    "from bokeh.io import output_notebook, curdoc, reset_output\n",
    "from bokeh.plotting import figure, output_file, show, ColumnDataSource\n",
    "\n",
    "import numpy as np\n",
    "import scipy.special"
   ]
  },
  {
   "cell_type": "markdown",
   "metadata": {},
   "source": [
    "and do some initial setup"
   ]
  },
  {
   "cell_type": "code",
   "execution_count": null,
   "metadata": {},
   "outputs": [],
   "source": [
    "# used to standardize plot size below\n",
    "GLOBAL_WIDTH = 800\n",
    "GLOBAL_HEIGHT = 600\n",
    "\n",
    "# display notebooks inline\n",
    "output_notebook() "
   ]
  },
  {
   "cell_type": "markdown",
   "metadata": {},
   "source": [
    "## Line Plot\n",
    "\n",
    "Let's create a simple line plot. Note, you can customize the x and y axis labels, title the plot, add a legend label or make other changes."
   ]
  },
  {
   "cell_type": "code",
   "execution_count": null,
   "metadata": {},
   "outputs": [],
   "source": [
    "# prepare some data\n",
    "x = [1, 2, 3, 4, 5]\n",
    "y = [6, 7, 2, 4, 5]\n",
    "\n",
    "# output to static HTML file\n",
    "# output_file(\"lines.html\") # also rendering to file\n",
    "\n",
    "# display inline\n",
    "output_notebook()\n",
    "\n",
    "# create a new plot with a title and axis labels\n",
    "p = figure(title=\"simple line example\", x_axis_label='x', y_axis_label='y')\n",
    "\n",
    "# add a line renderer with legend and line thickness\n",
    "p.line(x, y, legend_label=\"Temp.\", line_width=2)\n",
    "\n",
    "# show the results\n",
    "show(p)"
   ]
  },
  {
   "cell_type": "markdown",
   "metadata": {},
   "source": [
    "Uncomment the `output_html()` above to save the plot as an html file, and open it in your browser. Does it look as expected?"
   ]
  },
  {
   "cell_type": "markdown",
   "metadata": {},
   "source": [
    "Now reset the output format to display inline:"
   ]
  },
  {
   "cell_type": "code",
   "execution_count": null,
   "metadata": {},
   "outputs": [],
   "source": [
    "reset_output()"
   ]
  },
  {
   "cell_type": "code",
   "execution_count": null,
   "metadata": {},
   "outputs": [],
   "source": [
    "output_notebook()"
   ]
  },
  {
   "cell_type": "markdown",
   "metadata": {},
   "source": [
    "## Line Plot with Dark Mode\n",
    "\n",
    "If you are using jupyter in jupyterlab mode (dark mode), you may want to produce black graphs on a black background using `curdoc().theme`."
   ]
  },
  {
   "cell_type": "code",
   "execution_count": null,
   "metadata": {},
   "outputs": [],
   "source": [
    "curdoc().theme = 'dark_minimal'\n",
    "\n",
    "# prepare some data\n",
    "x = [1, 2, 3, 4, 5]\n",
    "y = [6, 7, 2, 4, 5]\n",
    "\n",
    "# output to static HTML file\n",
    "# output_file(\"lines.html\") # also rendering to file\n",
    "\n",
    "# create a new plot with a title and axis labels\n",
    "p = figure(title=\"simple line example\", x_axis_label='x', y_axis_label='y')\n",
    "\n",
    "# add a line renderer with legend and line thickness\n",
    "p.line(x, y, legend_label=\"Temp.\", line_width=2)\n",
    "\n",
    "# show the results\n",
    "show(p)"
   ]
  },
  {
   "cell_type": "markdown",
   "metadata": {},
   "source": [
    "Reset the theme to the default. I'll show you dark mode another day."
   ]
  },
  {
   "cell_type": "code",
   "execution_count": null,
   "metadata": {},
   "outputs": [],
   "source": [
    "curdoc().theme = 'caliber'"
   ]
  },
  {
   "cell_type": "markdown",
   "metadata": {},
   "source": [
    "## Scatter plot\n",
    "\n",
    "Bokeh can produce scatter plots. Imagine recreating your plots from earlier exercises (mean features for x and y), but being able to interact with them. \n",
    "\n",
    "The example below generates N random data points (x and y), and then plots them in red. Notice the toolbar on the right hand side of the plot: it includes tools to pan the plot, marquis (box) zoom, scroll zoom, save still to file, and reset plot settings. You can also add other tools or create your own."
   ]
  },
  {
   "cell_type": "code",
   "execution_count": null,
   "metadata": {},
   "outputs": [],
   "source": [
    "# generate data\n",
    "N = 120\n",
    "x = np.random.random(size=N)\n",
    "y = np.random.random(size=N)\n",
    "\n",
    "# plotting\n",
    "p = figure(plot_width=GLOBAL_WIDTH, plot_height=GLOBAL_HEIGHT)\n",
    "\n",
    "# add a circle renderer with a size, color, and alpha\n",
    "p.circle(x, y, size=5, color=\"red\", alpha=0.9)\n",
    "\n",
    "# show the results\n",
    "show(p)"
   ]
  },
  {
   "cell_type": "markdown",
   "metadata": {},
   "source": [
    "We can also color points individually by value:"
   ]
  },
  {
   "cell_type": "code",
   "execution_count": null,
   "metadata": {},
   "outputs": [],
   "source": [
    "# generate data (including colors)\n",
    "N = 120\n",
    "x = np.random.random(size=N)\n",
    "y = np.random.random(size=N)\n",
    "\n",
    "colors = [\n",
    "    \"#%02x%02x%02x\" % (int(r), int(g), 150) for r, g in zip(256*x, 256*y)\n",
    "]\n",
    "\n",
    "# plot\n",
    "p = figure(plot_width=GLOBAL_WIDTH, plot_height=GLOBAL_HEIGHT)\n",
    "p.circle(x, y, size=5, color=colors, alpha=0.9)\n",
    "\n",
    "# show the results\n",
    "show(p)"
   ]
  },
  {
   "cell_type": "markdown",
   "metadata": {},
   "source": [
    "## Tooltips for More Information\n",
    "\n",
    "Bokeh can also use tooltips (hover) to provide information about specific data points that you are viewing. See their extended discussion of this in the bokeh docs: [custom-tooltips](https://docs.bokeh.org/en/latest/docs/user_guide/tools.html#custom-tooltip)\n",
    "\n",
    "This example loads a list of data, including labels (`desc`), thumbnail images (`imgs`), and particular fonts in html. This can be quite useful to preview image files corresponding to specific data points, similar to what Jason Bailey/Artnome do with their interacxtive plot. \n",
    "\n",
    "The `TOOLTIPS` html code changes what information is displayed in the tooltip. Note the `$index`, `$x`, `$y` variables wich read from the ColumnDataSource."
   ]
  },
  {
   "cell_type": "code",
   "execution_count": null,
   "metadata": {},
   "outputs": [],
   "source": [
    "source = ColumnDataSource(data=dict(\n",
    "    x=[1, 2, 3, 4, 5],\n",
    "    y=[2, 5, 8, 2, 7],\n",
    "    desc=['A', 'b', 'C', 'd', 'E'],\n",
    "    imgs=[\n",
    "        'https://docs.bokeh.org/static/snake.jpg',\n",
    "        'https://docs.bokeh.org/static/snake2.png',\n",
    "        'https://docs.bokeh.org/static/snake3D.png',\n",
    "        'https://docs.bokeh.org/static/snake4_TheRevenge.png',\n",
    "        'https://docs.bokeh.org/static/snakebite.jpg'\n",
    "    ],\n",
    "    fonts=[\n",
    "        '<i>italics</i>',\n",
    "        '<pre>pre</pre>',\n",
    "        '<b>bold</b>',\n",
    "        '<small>small</small>',\n",
    "        '<del>del</del>'\n",
    "    ]\n",
    "))\n",
    "\n",
    "TOOLTIPS = \"\"\"\n",
    "    <div>\n",
    "        <div>\n",
    "            <img\n",
    "                src=\"@imgs\" height=\"42\" alt=\"@imgs\" width=\"42\"\n",
    "                style=\"float: left; margin: 0px 15px 15px 0px;\"\n",
    "                border=\"2\"\n",
    "            ></img>\n",
    "        </div>\n",
    "        <div>\n",
    "            <span style=\"font-size: 17px; font-weight: bold;\">@desc</span>\n",
    "            <span style=\"font-size: 15px; color: #966;\">[$index]</span>\n",
    "        </div>\n",
    "        <div>\n",
    "            <span>@fonts{safe}</span>\n",
    "        </div>\n",
    "        <div>\n",
    "            <span style=\"font-size: 15px;\">Location</span>\n",
    "            <span style=\"font-size: 10px; color: #696;\">($x, $y)</span>\n",
    "        </div>\n",
    "    </div>\n",
    "\"\"\"\n",
    "\n",
    "p = figure(plot_width=GLOBAL_WIDTH, plot_height=GLOBAL_HEIGHT, tooltips=TOOLTIPS,\n",
    "           title=\"Mouse over the dots\")\n",
    "\n",
    "p.circle('x', 'y', size=10, source=source)\n",
    "\n",
    "show(p)"
   ]
  },
  {
   "cell_type": "markdown",
   "metadata": {},
   "source": [
    "## Histogram\n",
    "\n",
    "This shows a complex histogram with PDF and CDF in bokeh. (See https://docs.bokeh.org/en/latest/docs/gallery/histogram.html)"
   ]
  },
  {
   "cell_type": "code",
   "execution_count": null,
   "metadata": {},
   "outputs": [],
   "source": [
    "def make_plot(title, hist, edges, x, pdf, cdf):\n",
    "    p = figure(title=title, tools='', width=GLOBAL_WIDTH, height=GLOBAL_HEIGHT)\n",
    "    p.quad(top=hist, bottom=0, left=edges[:-1], right=edges[1:],\n",
    "           fill_color=\"navy\", alpha=0.5)\n",
    "    p.line(x, pdf, line_color=\"#ff8888\", line_width=4, alpha=0.7, legend_label=\"PDF\")\n",
    "    p.line(x, cdf, line_color=\"orange\", line_width=2, alpha=0.7, legend_label=\"CDF\")\n",
    "\n",
    "    p.y_range.start = 0\n",
    "    p.legend.location = \"center_right\"\n",
    "    p.legend.background_fill_color = \"#fefefe\"\n",
    "    p.xaxis.axis_label = 'x'\n",
    "    p.yaxis.axis_label = 'Pr(x)'\n",
    "    p.grid.grid_line_color=\"white\"\n",
    "    return p\n",
    "\n",
    "# Normal Distribution\n",
    "\n",
    "mu, sigma = 0, 0.5\n",
    "\n",
    "measured = np.random.normal(mu, sigma, 1000)\n",
    "hist, edges = np.histogram(measured, density=True, bins=50)\n",
    "\n",
    "x = np.linspace(-2, 2, 1000)\n",
    "pdf = 1/(sigma * np.sqrt(2*np.pi)) * np.exp(-(x-mu)**2 / (2*sigma**2)) # probability density function\n",
    "cdf = (1+scipy.special.erf((x-mu)/np.sqrt(2*sigma**2)))/2 # cumulative density function\n",
    "\n",
    "p = make_plot(\"Normal Distribution (μ=0, σ=0.5)\", hist, edges, x, pdf, cdf)\n",
    "\n",
    "# to write to file\n",
    "#output_file('histogram.html')\n",
    "\n",
    "show(p)"
   ]
  },
  {
   "cell_type": "markdown",
   "metadata": {},
   "source": [
    "Check out the Gallery of Bokeh plots on their website: https://docs.bokeh.org/en/latest/docs/gallery.html"
   ]
  },
  {
   "cell_type": "markdown",
   "metadata": {},
   "source": [
    "## Extensions\n",
    "Explore bokeh:\n",
    "- Look at those examples [on the cover page](https://docs.bokeh.org/en/latest/index.html)\n",
    "- Find a good example \"in the wild\", e.g. from the user community.\n",
    "\n",
    "Use bokeh to work with your images from exercise 1:\n",
    "- Use bokeh to create a histogram plus tooltip images to see which kinds of images (via inspection) are the lowest resolution in your scraped collection\n",
    "- Create scatter plots from pairs of metrics you calculated last week (mean brightness, mean hue, for instance)\n",
    "- Create scatter plots from n > 2 metrics using PCA or some dimensional reduction technique like t-SNE or UMAP."
   ]
  }
 ],
 "metadata": {
  "kernelspec": {
   "display_name": "Python 3",
   "language": "python",
   "name": "python3"
  },
  "language_info": {
   "codemirror_mode": {
    "name": "ipython",
    "version": 3
   },
   "file_extension": ".py",
   "mimetype": "text/x-python",
   "name": "python",
   "nbconvert_exporter": "python",
   "pygments_lexer": "ipython3",
   "version": "3.7.7"
  }
 },
 "nbformat": 4,
 "nbformat_minor": 2
}
